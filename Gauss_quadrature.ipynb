{
 "cells": [
  {
   "cell_type": "code",
   "execution_count": 1,
   "metadata": {},
   "outputs": [],
   "source": [
    "import numpy as np\n",
    "import matplotlib\n",
    "import matplotlib.pyplot as plt\n",
    "from math import sqrt\n",
    "from numpy import random\n",
    "from functools import partial"
   ]
  },
  {
   "cell_type": "code",
   "execution_count": 2,
   "metadata": {},
   "outputs": [],
   "source": [
    "'''\n",
    "Функция численного интегрирования функции f\n",
    "с помощью квадратуры Гаусса пятой степени точности\n",
    "'''\n",
    "def gauss_quad5(f):\n",
    "    return (8 / 9) * f(1) + (5 / 9) * f(1 - sqrt(3 / 5)) + (5 / 9) * f(1 + sqrt(3 / 5))\n",
    " \n",
    "'''\n",
    "Функция, которая возвращает значение полинома P(x)\n",
    "степени, равной количеству переданных коэффициентов coeffs\n",
    "'''\n",
    "def P(x, coeffs):\n",
    "    return sum(coeffs[i] * x**i for i in range(len(coeffs)))\n",
    " \n",
    "'''\n",
    "Функция, которая возвращает результат интегрирования\n",
    "полинома P(x) степени, равной количеству переданных\n",
    "коэффициентов coeffs, на интервале от a до b\n",
    "'''\n",
    "def analytical_integral(a, b, coeffs):\n",
    "    return sum(coeffs[i - 1] * (b**i - a**i) / i for i in range(1, len(coeffs) + 1))"
   ]
  },
  {
   "cell_type": "code",
   "execution_count": 3,
   "metadata": {},
   "outputs": [
    {
     "name": "stdout",
     "output_type": "stream",
     "text": [
      "P0(x) = 17x^0\n",
      "P1(x) = 17x^0 + 4x^1\n",
      "P2(x) = 17x^0 + 4x^1 + 9x^2\n",
      "P3(x) = 17x^0 + 4x^1 + 9x^2 + 22x^3\n",
      "P4(x) = 17x^0 + 4x^1 + 9x^2 + 22x^3 + 18x^4\n",
      "P5(x) = 17x^0 + 4x^1 + 9x^2 + 22x^3 + 18x^4 + -9x^5\n",
      "P6(x) = 17x^0 + 4x^1 + 9x^2 + 22x^3 + 18x^4 + -9x^5 + 9x^6\n"
     ]
    }
   ],
   "source": [
    "'''\n",
    "Данные\n",
    "'''\n",
    "degree = 7\n",
    "left_border = 0\n",
    "right_border = 2\n",
    " \n",
    "'''\n",
    "Вычисления\n",
    "'''\n",
    "random.seed(0)\n",
    "rc = [int(i) for i in 10 * random.randn(degree)]\n",
    " \n",
    "for d in range(degree):\n",
    "    print(f'P{d}(x) = '+ ' + '.join(f'{rc[i]}x^{i}' for i in range(0, d + 1)))\n",
    "\n",
    "analytical_results = [analytical_integral(left_border, right_border, rc[:i + 1]) for i in range(degree)]\n",
    "gauss_results = [gauss_quad5(partial(P, coeffs = rc[:i + 1])) for i in range(degree)]\n",
    "error_array = [abs(analytical_results[i] - gauss_results[i]) for i in range(degree)]"
   ]
  },
  {
   "cell_type": "code",
   "execution_count": 4,
   "metadata": {},
   "outputs": [
    {
     "name": "stdout",
     "output_type": "stream",
     "text": [
      "\t\tP0(x)\tP1(x)\tP2(x)\tP3(x)\tP4(x)\tP5(x)\tP6(x)\n",
      "Analytical\t34.0\t42.0\t66.0\t154.0\t269.2\t173.2\t337.8\n",
      "Gauss\t\t34.0\t42.0\t66.0\t154.0\t269.2\t173.2\t337.4\n",
      "Abs. error\t0.0\t0.0\t0.0\t0.0\t0.0\t0.0\t0.4\n"
     ]
    }
   ],
   "source": [
    "'''\n",
    "Вывод\n",
    "'''\n",
    "print(\"\\t\", *[f'P{i}(x)' for i in range(degree)], sep='\\t')\n",
    " \n",
    "print('Analytical\\t' + '\\t'.join('{0:.1f}'.format(r) for r in analytical_results))\n",
    "print('Gauss\\t\\t' + '\\t'.join('{0:.1f}'.format(r) for r in gauss_results))\n",
    "print('Abs. error\\t' + '\\t'.join('{0:.1f}'.format(r) for r in error_array))"
   ]
  }
 ],
 "metadata": {
  "kernelspec": {
   "display_name": "Python 3",
   "language": "python",
   "name": "python3"
  },
  "language_info": {
   "codemirror_mode": {
    "name": "ipython",
    "version": 3
   },
   "file_extension": ".py",
   "mimetype": "text/x-python",
   "name": "python",
   "nbconvert_exporter": "python",
   "pygments_lexer": "ipython3",
   "version": "3.7.1"
  }
 },
 "nbformat": 4,
 "nbformat_minor": 2
}
